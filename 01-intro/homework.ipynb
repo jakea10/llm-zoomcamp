{
 "cells": [
  {
   "cell_type": "code",
   "execution_count": 1,
   "id": "f0e5efbc-68d6-447e-a81c-3f637e3e2ade",
   "metadata": {},
   "outputs": [],
   "source": [
    " import openai"
   ]
  },
  {
   "cell_type": "code",
   "execution_count": 2,
   "id": "605f3651-4d58-4437-a37e-8890dc0724f1",
   "metadata": {},
   "outputs": [],
   "source": [
    "from openai import OpenAI"
   ]
  },
  {
   "cell_type": "code",
   "execution_count": 3,
   "id": "de946508-373d-4cdb-9bb1-8179830fa965",
   "metadata": {},
   "outputs": [],
   "source": [
    "client = OpenAI()"
   ]
  },
  {
   "cell_type": "code",
   "execution_count": 4,
   "id": "53081ead-e0ed-475a-97af-0f05b02e6625",
   "metadata": {},
   "outputs": [],
   "source": [
    "import os"
   ]
  },
  {
   "cell_type": "code",
   "execution_count": 7,
   "id": "e23fd5cb-e926-4571-82a0-8ba8508ac666",
   "metadata": {},
   "outputs": [
    {
     "name": "stdout",
     "output_type": "stream",
     "text": [
      "OPENAI_API_KEY sk-proj-bNGsqLOoF4aU7fTiFYLrT3BlbkFJes2WudN78NLc97LpA5sc\n"
     ]
    }
   ],
   "source": [
    "for key, val in os.environ.items():\n",
    "    if key.startswith('OPEN'):\n",
    "        print(key, val)"
   ]
  },
  {
   "cell_type": "code",
   "execution_count": 13,
   "id": "78ea3d85-e9ad-45d4-bd6d-8e58c1adb900",
   "metadata": {},
   "outputs": [],
   "source": [
    "response = client.chat.completions.create(\n",
    "    model='gpt-3.5-turbo',\n",
    "    messages=[{'role': 'user', 'content': 'Is it too late to join the course?'}]\n",
    ")"
   ]
  },
  {
   "cell_type": "code",
   "execution_count": 16,
   "id": "c7627ed1-fdd2-4c3b-ba3f-edb0acdfffe0",
   "metadata": {},
   "outputs": [
    {
     "data": {
      "text/plain": [
       "'It depends on the course and the institution offering it. Some courses may have specific start dates and deadlines for enrollment, while others may allow students to join at any time. It is best to contact the institution offering the course directly to inquire about enrollment options.'"
      ]
     },
     "execution_count": 16,
     "metadata": {},
     "output_type": "execute_result"
    }
   ],
   "source": [
    "response.choices[0].message.content"
   ]
  },
  {
   "cell_type": "code",
   "execution_count": null,
   "id": "b31b858d-114c-4262-a2e7-9127ebaed72f",
   "metadata": {},
   "outputs": [],
   "source": []
  }
 ],
 "metadata": {
  "kernelspec": {
   "display_name": "Python 3 (ipykernel)",
   "language": "python",
   "name": "python3"
  },
  "language_info": {
   "codemirror_mode": {
    "name": "ipython",
    "version": 3
   },
   "file_extension": ".py",
   "mimetype": "text/x-python",
   "name": "python",
   "nbconvert_exporter": "python",
   "pygments_lexer": "ipython3",
   "version": "3.10.13"
  }
 },
 "nbformat": 4,
 "nbformat_minor": 5
}
